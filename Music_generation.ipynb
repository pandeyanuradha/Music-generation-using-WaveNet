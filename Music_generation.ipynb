{
  "nbformat": 4,
  "nbformat_minor": 0,
  "metadata": {
    "colab": {
      "name": "Music generation",
      "provenance": []
    },
    "kernelspec": {
      "name": "python3",
      "display_name": "Python 3"
    },
    "accelerator": "GPU"
  },
  "cells": [
    {
      "cell_type": "code",
      "metadata": {
        "id": "wAtcgpeJ3H8R",
        "colab_type": "code",
        "colab": {
          "base_uri": "https://localhost:8080/",
          "height": 35
        },
        "outputId": "ea550781-a054-4869-e946-84f6690edc37"
      },
      "source": [
        "from google.colab import drive\n",
        "drive.mount('/content/drive')"
      ],
      "execution_count": 1,
      "outputs": [
        {
          "output_type": "stream",
          "text": [
            "Mounted at /content/drive\n"
          ],
          "name": "stdout"
        }
      ]
    },
    {
      "cell_type": "code",
      "metadata": {
        "id": "4UWlnl332yE8",
        "colab_type": "code",
        "colab": {}
      },
      "source": [
        "from music21 import *"
      ],
      "execution_count": 2,
      "outputs": []
    },
    {
      "cell_type": "code",
      "metadata": {
        "id": "jjscBY_o292j",
        "colab_type": "code",
        "colab": {}
      },
      "source": [
        "#defining function to read MIDI files\n",
        "def read_midi(file):\n",
        "    \n",
        "    print(\"Loading Music File:\",file)\n",
        "    \n",
        "    notes=[]\n",
        "    notes_to_parse = None\n",
        "    \n",
        "    #parsing a midi file\n",
        "    midi = converter.parse(file)\n",
        "  \n",
        "    #grouping based on different instruments\n",
        "    s2 = instrument.partitionByInstrument(midi)\n",
        "\n",
        "    #Looping over all the instruments\n",
        "    for part in s2.parts:\n",
        "    \n",
        "        #select elements of only piano\n",
        "        if 'Piano' in str(part): \n",
        "        \n",
        "            notes_to_parse = part.recurse() \n",
        "      \n",
        "            #finding whether a particular element is note or a chord\n",
        "            for element in notes_to_parse:\n",
        "                \n",
        "                #note\n",
        "                if isinstance(element, note.Note):\n",
        "                    notes.append(str(element.pitch))\n",
        "                \n",
        "                #chord\n",
        "                elif isinstance(element, chord.Chord):\n",
        "                    notes.append('.'.join(str(n) for n in element.normalOrder))\n",
        "\n",
        "    return np.array(notes)"
      ],
      "execution_count": 3,
      "outputs": []
    },
    {
      "cell_type": "code",
      "metadata": {
        "id": "sTtOjCar5Ru7",
        "colab_type": "code",
        "colab": {
          "base_uri": "https://localhost:8080/",
          "height": 520
        },
        "outputId": "d6ad606b-aaec-40c8-dfd3-b1b8d3b8481a"
      },
      "source": [
        "#for listing down the file names\n",
        "import os\n",
        "\n",
        "#Array Processing\n",
        "import numpy as np\n",
        "\n",
        "#specify the path\n",
        "path=(r\"/content/drive/My Drive/ML Projects (Colab)/Music generation/schubert/\")\n",
        "#/content/drive/My Drive/ML Projects (Colab)/Music generation/schubert/schu_143_1.mid\n",
        "#read all the filenames\n",
        "files=[i for i in os.listdir(path) if i.endswith(\".mid\")]\n",
        "\n",
        "#reading each midi file\n",
        "notes_array = np.array([read_midi(path+i) for i in files])"
      ],
      "execution_count": 4,
      "outputs": [
        {
          "output_type": "stream",
          "text": [
            "Loading Music File: /content/drive/My Drive/ML Projects (Colab)/Music generation/schubert/schubert_D850_4.mid\n",
            "Loading Music File: /content/drive/My Drive/ML Projects (Colab)/Music generation/schubert/schubert_D850_2.mid\n",
            "Loading Music File: /content/drive/My Drive/ML Projects (Colab)/Music generation/schubert/schubert_D850_1.mid\n",
            "Loading Music File: /content/drive/My Drive/ML Projects (Colab)/Music generation/schubert/schubert_D850_3.mid\n",
            "Loading Music File: /content/drive/My Drive/ML Projects (Colab)/Music generation/schubert/schub_d960_3.mid\n",
            "Loading Music File: /content/drive/My Drive/ML Projects (Colab)/Music generation/schubert/schub_d960_2.mid\n",
            "Loading Music File: /content/drive/My Drive/ML Projects (Colab)/Music generation/schubert/schumm-3.mid\n",
            "Loading Music File: /content/drive/My Drive/ML Projects (Colab)/Music generation/schubert/schuim-4.mid\n",
            "Loading Music File: /content/drive/My Drive/ML Projects (Colab)/Music generation/schubert/schub_d760_3.mid\n",
            "Loading Music File: /content/drive/My Drive/ML Projects (Colab)/Music generation/schubert/schubert_D935_1.mid\n",
            "Loading Music File: /content/drive/My Drive/ML Projects (Colab)/Music generation/schubert/schub_d960_1.mid\n",
            "Loading Music File: /content/drive/My Drive/ML Projects (Colab)/Music generation/schubert/schub_d760_4.mid\n",
            "Loading Music File: /content/drive/My Drive/ML Projects (Colab)/Music generation/schubert/schumm-1.mid\n",
            "Loading Music File: /content/drive/My Drive/ML Projects (Colab)/Music generation/schubert/schubert_D935_4.mid\n",
            "Loading Music File: /content/drive/My Drive/ML Projects (Colab)/Music generation/schubert/schubert_D935_3.mid\n",
            "Loading Music File: /content/drive/My Drive/ML Projects (Colab)/Music generation/schubert/schumm-2.mid\n",
            "Loading Music File: /content/drive/My Drive/ML Projects (Colab)/Music generation/schubert/schub_d760_1.mid\n",
            "Loading Music File: /content/drive/My Drive/ML Projects (Colab)/Music generation/schubert/schuim-3.mid\n",
            "Loading Music File: /content/drive/My Drive/ML Projects (Colab)/Music generation/schubert/schubert_D935_2.mid\n",
            "Loading Music File: /content/drive/My Drive/ML Projects (Colab)/Music generation/schubert/schuim-2.mid\n",
            "Loading Music File: /content/drive/My Drive/ML Projects (Colab)/Music generation/schubert/schub_d960_4.mid\n",
            "Loading Music File: /content/drive/My Drive/ML Projects (Colab)/Music generation/schubert/schuim-1.mid\n",
            "Loading Music File: /content/drive/My Drive/ML Projects (Colab)/Music generation/schubert/schub_d760_2.mid\n",
            "Loading Music File: /content/drive/My Drive/ML Projects (Colab)/Music generation/schubert/schumm-5.mid\n",
            "Loading Music File: /content/drive/My Drive/ML Projects (Colab)/Music generation/schubert/schu_143_2.mid\n",
            "Loading Music File: /content/drive/My Drive/ML Projects (Colab)/Music generation/schubert/schumm-6.mid\n",
            "Loading Music File: /content/drive/My Drive/ML Projects (Colab)/Music generation/schubert/schumm-4.mid\n",
            "Loading Music File: /content/drive/My Drive/ML Projects (Colab)/Music generation/schubert/schu_143_3.mid\n",
            "Loading Music File: /content/drive/My Drive/ML Projects (Colab)/Music generation/schubert/schu_143_1.mid\n"
          ],
          "name": "stdout"
        }
      ]
    },
    {
      "cell_type": "code",
      "metadata": {
        "id": "c59t7MSV5THw",
        "colab_type": "code",
        "colab": {
          "base_uri": "https://localhost:8080/",
          "height": 35
        },
        "outputId": "3ba9035d-2755-4f50-9414-aaaece9ea376"
      },
      "source": [
        "notes_ = [element for note_ in notes_array for element in note_]\n",
        "\n",
        "#No. of unique notes\n",
        "unique_notes = list(set(notes_))\n",
        "print(len(unique_notes))"
      ],
      "execution_count": 5,
      "outputs": [
        {
          "output_type": "stream",
          "text": [
            "304\n"
          ],
          "name": "stdout"
        }
      ]
    },
    {
      "cell_type": "code",
      "metadata": {
        "id": "eL6ymNJn5TEp",
        "colab_type": "code",
        "colab": {
          "base_uri": "https://localhost:8080/",
          "height": 406
        },
        "outputId": "a2b5de45-a5dc-47d9-85b5-d4faa0e1c08d"
      },
      "source": [
        "from collections import Counter\n",
        "\n",
        "#computing frequency of each note\n",
        "freq = dict(Counter(notes_))\n",
        "\n",
        "#library for visualiation\n",
        "import matplotlib.pyplot as plt\n",
        "\n",
        "#consider only the frequencies\n",
        "no=[count for _,count in freq.items()]\n",
        "\n",
        "#set the figure size\n",
        "plt.figure(figsize=(5,5))\n",
        "\n",
        "#plot\n",
        "plt.hist(no)"
      ],
      "execution_count": 6,
      "outputs": [
        {
          "output_type": "execute_result",
          "data": {
            "text/plain": [
              "(array([187.,  41.,  26.,  11.,   6.,   9.,  12.,   6.,   3.,   3.]),\n",
              " array([1.0000e+00, 1.4790e+02, 2.9480e+02, 4.4170e+02, 5.8860e+02,\n",
              "        7.3550e+02, 8.8240e+02, 1.0293e+03, 1.1762e+03, 1.3231e+03,\n",
              "        1.4700e+03]),\n",
              " <a list of 10 Patch objects>)"
            ]
          },
          "metadata": {
            "tags": []
          },
          "execution_count": 6
        },
        {
          "output_type": "display_data",
          "data": {
            "image/png": "[encoded data removed]",
            "text/plain": [
              "<Figure size 360x360 with 1 Axes>"
            ]
          },
          "metadata": {
            "tags": [],
            "image/png": {
              "width": 319,
              "height": 302
            },
            "needs_background": "light"
          }
        }
      ]
    },
    {
      "cell_type": "code",
      "metadata": {
        "id": "RLelmrS2UupF",
        "colab_type": "code",
        "colab": {
          "base_uri": "https://localhost:8080/",
          "height": 35
        },
        "outputId": "3731b4ab-c361-4cf9-e7ac-30e0af0ed6e8"
      },
      "source": [
        "frequent_notes = [note_ for note_, count in freq.items() if count>=50]\n",
        "print(len(frequent_notes))"
      ],
      "execution_count": 7,
      "outputs": [
        {
          "output_type": "stream",
          "text": [
            "167\n"
          ],
          "name": "stdout"
        }
      ]
    },
    {
      "cell_type": "code",
      "metadata": {
        "id": "LQSs4h5aUvqE",
        "colab_type": "code",
        "colab": {}
      },
      "source": [
        "new_music=[]\n",
        "\n",
        "for notes in notes_array:\n",
        "    temp=[]\n",
        "    for note_ in notes:\n",
        "        if note_ in frequent_notes:\n",
        "            temp.append(note_)            \n",
        "    new_music.append(temp)\n",
        "    \n",
        "new_music = np.array(new_music)"
      ],
      "execution_count": 8,
      "outputs": []
    },
    {
      "cell_type": "code",
      "metadata": {
        "id": "lRNazKLdUvmu",
        "colab_type": "code",
        "colab": {}
      },
      "source": [
        "no_of_timesteps = 32\n",
        "x = []\n",
        "y = []\n",
        "\n",
        "for note_ in new_music:\n",
        "    for i in range(0, len(note_) - no_of_timesteps, 1):\n",
        "        \n",
        "        #preparing input and output sequences\n",
        "        input_ = note_[i:i + no_of_timesteps]\n",
        "        output = note_[i + no_of_timesteps]\n",
        "        \n",
        "        x.append(input_)\n",
        "        y.append(output)\n",
        "        \n",
        "x=np.array(x)\n",
        "y=np.array(y)"
      ],
      "execution_count": 9,
      "outputs": []
    },
    {
      "cell_type": "code",
      "metadata": {
        "id": "ze-pfQRLUvis",
        "colab_type": "code",
        "colab": {}
      },
      "source": [
        "unique_x = list(set(x.ravel()))\n",
        "x_note_to_int = dict((note_, number) for number, note_ in enumerate(unique_x))"
      ],
      "execution_count": 10,
      "outputs": []
    },
    {
      "cell_type": "code",
      "metadata": {
        "id": "f5icS86MUull",
        "colab_type": "code",
        "colab": {}
      },
      "source": [
        "x_seq=[]\n",
        "for i in x:\n",
        "    temp=[]\n",
        "    for j in i:\n",
        "        #assigning unique integer to every note\n",
        "        temp.append(x_note_to_int[j])\n",
        "    x_seq.append(temp)\n",
        "    \n",
        "x_seq = np.array(x_seq)"
      ],
      "execution_count": 11,
      "outputs": []
    },
    {
      "cell_type": "code",
      "metadata": {
        "id": "4S8ykS_AUuiY",
        "colab_type": "code",
        "colab": {}
      },
      "source": [
        "unique_y = list(set(y))\n",
        "y_note_to_int = dict((note_, number) for number, note_ in enumerate(unique_y)) \n",
        "y_seq=np.array([y_note_to_int[i] for i in y])"
      ],
      "execution_count": 12,
      "outputs": []
    },
    {
      "cell_type": "code",
      "metadata": {
        "id": "TEDFnHlTUue_",
        "colab_type": "code",
        "colab": {}
      },
      "source": [
        "from sklearn.model_selection import train_test_split\n",
        "x_tr, x_val, y_tr, y_val = train_test_split(x_seq,y_seq,test_size=0.2,random_state=0)"
      ],
      "execution_count": 13,
      "outputs": []
    },
    {
      "cell_type": "code",
      "metadata": {
        "id": "-Kf-Ls6VUual",
        "colab_type": "code",
        "colab": {}
      },
      "source": [
        "def lstm():\n",
        "  model = Sequential()\n",
        "  model.add(LSTM(128,return_sequences=True))\n",
        "  model.add(LSTM(128))\n",
        "  model.add(Dense(256))\n",
        "  model.add(Activation('relu'))\n",
        "  model.add(Dense(n_vocab))\n",
        "  model.add(Activation('softmax'))\n",
        "  model.compile(loss='sparse_categorical_crossentropy', optimizer='adam')\n",
        "  return model"
      ],
      "execution_count": 14,
      "outputs": []
    },
    {
      "cell_type": "code",
      "metadata": {
        "id": "ZyaQg70NUuWI",
        "colab_type": "code",
        "colab": {
          "base_uri": "https://localhost:8080/",
          "height": 607
        },
        "outputId": "e191bb1c-f362-4215-95e0-32508112c22b"
      },
      "source": [
        "from keras.layers import *\n",
        "from keras.models import *\n",
        "from keras.callbacks import *\n",
        "import keras.backend as K\n",
        "\n",
        "K.clear_session()\n",
        "model = Sequential()\n",
        "    \n",
        "#embedding layer\n",
        "model.add(Embedding(len(unique_x), 100, input_length=32,trainable=True)) \n",
        "\n",
        "model.add(Conv1D(64,3, padding='causal',activation='relu'))\n",
        "model.add(Dropout(0.2))\n",
        "model.add(MaxPool1D(2))\n",
        "    \n",
        "model.add(Conv1D(128,3,activation='relu',dilation_rate=2,padding='causal'))\n",
        "model.add(Dropout(0.2))\n",
        "model.add(MaxPool1D(2))\n",
        "\n",
        "model.add(Conv1D(256,3,activation='relu',dilation_rate=4,padding='causal'))\n",
        "model.add(Dropout(0.2))\n",
        "model.add(MaxPool1D(2))\n",
        "          \n",
        "#model.add(Conv1D(256,5,activation='relu'))    \n",
        "model.add(GlobalMaxPool1D())\n",
        "    \n",
        "model.add(Dense(256, activation='relu'))\n",
        "model.add(Dense(len(unique_y), activation='softmax'))\n",
        "    \n",
        "model.compile(loss='sparse_categorical_crossentropy', optimizer='adam')\n",
        "\n",
        "model.summary()"
      ],
      "execution_count": 15,
      "outputs": [
        {
          "output_type": "stream",
          "text": [
            "Model: \"sequential\"\n",
            "_________________________________________________________________\n",
            "Layer (type)                 Output Shape              Param #   \n",
            "=================================================================\n",
            "embedding (Embedding)        (None, 32, 100)           16700     \n",
            "_________________________________________________________________\n",
            "conv1d (Conv1D)              (None, 32, 64)            19264     \n",
            "_________________________________________________________________\n",
            "dropout (Dropout)            (None, 32, 64)            0         \n",
            "_________________________________________________________________\n",
            "max_pooling1d (MaxPooling1D) (None, 16, 64)            0         \n",
            "_________________________________________________________________\n",
            "conv1d_1 (Conv1D)            (None, 16, 128)           24704     \n",
            "_________________________________________________________________\n",
            "dropout_1 (Dropout)          (None, 16, 128)           0         \n",
            "_________________________________________________________________\n",
            "max_pooling1d_1 (MaxPooling1 (None, 8, 128)            0         \n",
            "_________________________________________________________________\n",
            "conv1d_2 (Conv1D)            (None, 8, 256)            98560     \n",
            "_________________________________________________________________\n",
            "dropout_2 (Dropout)          (None, 8, 256)            0         \n",
            "_________________________________________________________________\n",
            "max_pooling1d_2 (MaxPooling1 (None, 4, 256)            0         \n",
            "_________________________________________________________________\n",
            "global_max_pooling1d (Global (None, 256)               0         \n",
            "_________________________________________________________________\n",
            "dense (Dense)                (None, 256)               65792     \n",
            "_________________________________________________________________\n",
            "dense_1 (Dense)              (None, 167)               42919     \n",
            "=================================================================\n",
            "Total params: 267,939\n",
            "Trainable params: 267,939\n",
            "Non-trainable params: 0\n",
            "_________________________________________________________________\n"
          ],
          "name": "stdout"
        }
      ]
    },
    {
      "cell_type": "code",
      "metadata": {
        "id": "B-t3p_9GWOdP",
        "colab_type": "code",
        "colab": {}
      },
      "source": [
        "mc=ModelCheckpoint('best_model.h5', monitor='val_loss', mode='min', save_best_only=True,verbose=1)"
      ],
      "execution_count": 16,
      "outputs": []
    },
    {
      "cell_type": "code",
      "metadata": {
        "id": "FAeNSw-kWOY_",
        "colab_type": "code",
        "colab": {
          "base_uri": "https://localhost:8080/",
          "height": 1000
        },
        "outputId": "f76052c4-751e-4d02-ca93-e98fbe65ee8a"
      },
      "source": [
        "history = model.fit(np.array(x_tr),np.array(y_tr),batch_size=128,epochs=50, validation_data=(np.array(x_val),np.array(y_val)),verbose=1, callbacks=[mc])"
      ],
      "execution_count": 17,
      "outputs": [
        {
          "output_type": "stream",
          "text": [
            "Epoch 1/50\n",
            "403/403 [==============================] - ETA: 0s - loss: 4.3597\n",
            "Epoch 00001: val_loss improved from inf to 4.04473, saving model to best_model.h5\n",
            "403/403 [==============================] - 3s 7ms/step - loss: 4.3597 - val_loss: 4.0447\n",
            "Epoch 2/50\n",
            "395/403 [============================>.] - ETA: 0s - loss: 3.8068\n",
            "Epoch 00002: val_loss improved from 4.04473 to 3.84167, saving model to best_model.h5\n",
            "403/403 [==============================] - 3s 6ms/step - loss: 3.8045 - val_loss: 3.8417\n",
            "Epoch 3/50\n",
            "397/403 [============================>.] - ETA: 0s - loss: 3.6293\n",
            "Epoch 00003: val_loss improved from 3.84167 to 3.69192, saving model to best_model.h5\n",
            "403/403 [==============================] - 3s 6ms/step - loss: 3.6294 - val_loss: 3.6919\n",
            "Epoch 4/50\n",
            "394/403 [============================>.] - ETA: 0s - loss: 3.5041\n",
            "Epoch 00004: val_loss improved from 3.69192 to 3.58552, saving model to best_model.h5\n",
            "403/403 [==============================] - 3s 6ms/step - loss: 3.5018 - val_loss: 3.5855\n",
            "Epoch 5/50\n",
            "397/403 [============================>.] - ETA: 0s - loss: 3.4043\n",
            "Epoch 00005: val_loss improved from 3.58552 to 3.51311, saving model to best_model.h5\n",
            "403/403 [==============================] - 3s 6ms/step - loss: 3.4054 - val_loss: 3.5131\n",
            "Epoch 6/50\n",
            "402/403 [============================>.] - ETA: 0s - loss: 3.3156\n",
            "Epoch 00006: val_loss improved from 3.51311 to 3.47131, saving model to best_model.h5\n",
            "403/403 [==============================] - 3s 6ms/step - loss: 3.3157 - val_loss: 3.4713\n",
            "Epoch 7/50\n",
            "395/403 [============================>.] - ETA: 0s - loss: 3.2470\n",
            "Epoch 00007: val_loss improved from 3.47131 to 3.38982, saving model to best_model.h5\n",
            "403/403 [==============================] - 3s 6ms/step - loss: 3.2466 - val_loss: 3.3898\n",
            "Epoch 8/50\n",
            "396/403 [============================>.] - ETA: 0s - loss: 3.1804\n",
            "Epoch 00008: val_loss improved from 3.38982 to 3.32855, saving model to best_model.h5\n",
            "403/403 [==============================] - 3s 6ms/step - loss: 3.1795 - val_loss: 3.3286\n",
            "Epoch 9/50\n",
            "398/403 [============================>.] - ETA: 0s - loss: 3.1177\n",
            "Epoch 00009: val_loss improved from 3.32855 to 3.30465, saving model to best_model.h5\n",
            "403/403 [==============================] - 2s 6ms/step - loss: 3.1187 - val_loss: 3.3047\n",
            "Epoch 10/50\n",
            "397/403 [============================>.] - ETA: 0s - loss: 3.0667\n",
            "Epoch 00010: val_loss improved from 3.30465 to 3.24748, saving model to best_model.h5\n",
            "403/403 [==============================] - 3s 6ms/step - loss: 3.0662 - val_loss: 3.2475\n",
            "Epoch 11/50\n",
            "401/403 [============================>.] - ETA: 0s - loss: 3.0178\n",
            "Epoch 00011: val_loss did not improve from 3.24748\n",
            "403/403 [==============================] - 2s 6ms/step - loss: 3.0172 - val_loss: 3.2503\n",
            "Epoch 12/50\n",
            "397/403 [============================>.] - ETA: 0s - loss: 2.9704\n",
            "Epoch 00012: val_loss improved from 3.24748 to 3.18241, saving model to best_model.h5\n",
            "403/403 [==============================] - 3s 6ms/step - loss: 2.9706 - val_loss: 3.1824\n",
            "Epoch 13/50\n",
            "403/403 [==============================] - ETA: 0s - loss: 2.9265\n",
            "Epoch 00013: val_loss improved from 3.18241 to 3.15101, saving model to best_model.h5\n",
            "403/403 [==============================] - 3s 6ms/step - loss: 2.9265 - val_loss: 3.1510\n",
            "Epoch 14/50\n",
            "394/403 [============================>.] - ETA: 0s - loss: 2.8902\n",
            "Epoch 00014: val_loss improved from 3.15101 to 3.13435, saving model to best_model.h5\n",
            "403/403 [==============================] - 3s 6ms/step - loss: 2.8912 - val_loss: 3.1343\n",
            "Epoch 15/50\n",
            "402/403 [============================>.] - ETA: 0s - loss: 2.8573\n",
            "Epoch 00015: val_loss improved from 3.13435 to 3.12909, saving model to best_model.h5\n",
            "403/403 [==============================] - 3s 6ms/step - loss: 2.8576 - val_loss: 3.1291\n",
            "Epoch 16/50\n",
            "394/403 [============================>.] - ETA: 0s - loss: 2.8202\n",
            "Epoch 00016: val_loss improved from 3.12909 to 3.08332, saving model to best_model.h5\n",
            "403/403 [==============================] - 3s 6ms/step - loss: 2.8211 - val_loss: 3.0833\n",
            "Epoch 17/50\n",
            "402/403 [============================>.] - ETA: 0s - loss: 2.7862\n",
            "Epoch 00017: val_loss improved from 3.08332 to 3.06594, saving model to best_model.h5\n",
            "403/403 [==============================] - 2s 6ms/step - loss: 2.7863 - val_loss: 3.0659\n",
            "Epoch 18/50\n",
            "396/403 [============================>.] - ETA: 0s - loss: 2.7588\n",
            "Epoch 00018: val_loss improved from 3.06594 to 3.04190, saving model to best_model.h5\n",
            "403/403 [==============================] - 3s 6ms/step - loss: 2.7605 - val_loss: 3.0419\n",
            "Epoch 19/50\n",
            "399/403 [============================>.] - ETA: 0s - loss: 2.7334\n",
            "Epoch 00019: val_loss improved from 3.04190 to 3.02423, saving model to best_model.h5\n",
            "403/403 [==============================] - 2s 6ms/step - loss: 2.7329 - val_loss: 3.0242\n",
            "Epoch 20/50\n",
            "396/403 [============================>.] - ETA: 0s - loss: 2.7012\n",
            "Epoch 00020: val_loss improved from 3.02423 to 2.99782, saving model to best_model.h5\n",
            "403/403 [==============================] - 3s 6ms/step - loss: 2.7019 - val_loss: 2.9978\n",
            "Epoch 21/50\n",
            "396/403 [============================>.] - ETA: 0s - loss: 2.6839\n",
            "Epoch 00021: val_loss improved from 2.99782 to 2.99696, saving model to best_model.h5\n",
            "403/403 [==============================] - 2s 6ms/step - loss: 2.6837 - val_loss: 2.9970\n",
            "Epoch 22/50\n",
            "395/403 [============================>.] - ETA: 0s - loss: 2.6623\n",
            "Epoch 00022: val_loss improved from 2.99696 to 2.98092, saving model to best_model.h5\n",
            "403/403 [==============================] - 2s 6ms/step - loss: 2.6609 - val_loss: 2.9809\n",
            "Epoch 23/50\n",
            "395/403 [============================>.] - ETA: 0s - loss: 2.6370\n",
            "Epoch 00023: val_loss improved from 2.98092 to 2.95734, saving model to best_model.h5\n",
            "403/403 [==============================] - 3s 6ms/step - loss: 2.6380 - val_loss: 2.9573\n",
            "Epoch 24/50\n",
            "395/403 [============================>.] - ETA: 0s - loss: 2.6146\n",
            "Epoch 00024: val_loss did not improve from 2.95734\n",
            "403/403 [==============================] - 2s 6ms/step - loss: 2.6158 - val_loss: 2.9645\n",
            "Epoch 25/50\n",
            "394/403 [============================>.] - ETA: 0s - loss: 2.5971\n",
            "Epoch 00025: val_loss improved from 2.95734 to 2.94299, saving model to best_model.h5\n",
            "403/403 [==============================] - 3s 6ms/step - loss: 2.5981 - val_loss: 2.9430\n",
            "Epoch 26/50\n",
            "394/403 [============================>.] - ETA: 0s - loss: 2.5840\n",
            "Epoch 00026: val_loss improved from 2.94299 to 2.93706, saving model to best_model.h5\n",
            "403/403 [==============================] - 3s 6ms/step - loss: 2.5840 - val_loss: 2.9371\n",
            "Epoch 27/50\n",
            "403/403 [==============================] - ETA: 0s - loss: 2.5719\n",
            "Epoch 00027: val_loss improved from 2.93706 to 2.92867, saving model to best_model.h5\n",
            "403/403 [==============================] - 3s 6ms/step - loss: 2.5719 - val_loss: 2.9287\n",
            "Epoch 28/50\n",
            "400/403 [============================>.] - ETA: 0s - loss: 2.5535\n",
            "Epoch 00028: val_loss improved from 2.92867 to 2.90408, saving model to best_model.h5\n",
            "403/403 [==============================] - 2s 6ms/step - loss: 2.5528 - val_loss: 2.9041\n",
            "Epoch 29/50\n",
            "398/403 [============================>.] - ETA: 0s - loss: 2.5340\n",
            "Epoch 00029: val_loss improved from 2.90408 to 2.90143, saving model to best_model.h5\n",
            "403/403 [==============================] - 3s 6ms/step - loss: 2.5340 - val_loss: 2.9014\n",
            "Epoch 30/50\n",
            "399/403 [============================>.] - ETA: 0s - loss: 2.5242\n",
            "Epoch 00030: val_loss did not improve from 2.90143\n",
            "403/403 [==============================] - 2s 6ms/step - loss: 2.5252 - val_loss: 2.9027\n",
            "Epoch 31/50\n",
            "394/403 [============================>.] - ETA: 0s - loss: 2.5114\n",
            "Epoch 00031: val_loss improved from 2.90143 to 2.88980, saving model to best_model.h5\n",
            "403/403 [==============================] - 2s 6ms/step - loss: 2.5141 - val_loss: 2.8898\n",
            "Epoch 32/50\n",
            "397/403 [============================>.] - ETA: 0s - loss: 2.4918\n",
            "Epoch 00032: val_loss improved from 2.88980 to 2.87131, saving model to best_model.h5\n",
            "403/403 [==============================] - 2s 6ms/step - loss: 2.4923 - val_loss: 2.8713\n",
            "Epoch 33/50\n",
            "396/403 [============================>.] - ETA: 0s - loss: 2.4863\n",
            "Epoch 00033: val_loss improved from 2.87131 to 2.86180, saving model to best_model.h5\n",
            "403/403 [==============================] - 2s 6ms/step - loss: 2.4867 - val_loss: 2.8618\n",
            "Epoch 34/50\n",
            "402/403 [============================>.] - ETA: 0s - loss: 2.4744\n",
            "Epoch 00034: val_loss improved from 2.86180 to 2.84724, saving model to best_model.h5\n",
            "403/403 [==============================] - 3s 6ms/step - loss: 2.4742 - val_loss: 2.8472\n",
            "Epoch 35/50\n",
            "403/403 [==============================] - ETA: 0s - loss: 2.4655\n",
            "Epoch 00035: val_loss improved from 2.84724 to 2.84489, saving model to best_model.h5\n",
            "403/403 [==============================] - 3s 6ms/step - loss: 2.4655 - val_loss: 2.8449\n",
            "Epoch 36/50\n",
            "398/403 [============================>.] - ETA: 0s - loss: 2.4564\n",
            "Epoch 00036: val_loss did not improve from 2.84489\n",
            "403/403 [==============================] - 3s 6ms/step - loss: 2.4567 - val_loss: 2.8476\n",
            "Epoch 37/50\n",
            "394/403 [============================>.] - ETA: 0s - loss: 2.4440\n",
            "Epoch 00037: val_loss did not improve from 2.84489\n",
            "403/403 [==============================] - 2s 6ms/step - loss: 2.4444 - val_loss: 2.8463\n",
            "Epoch 38/50\n",
            "402/403 [============================>.] - ETA: 0s - loss: 2.4379\n",
            "Epoch 00038: val_loss improved from 2.84489 to 2.83236, saving model to best_model.h5\n",
            "403/403 [==============================] - 3s 6ms/step - loss: 2.4377 - val_loss: 2.8324\n",
            "Epoch 39/50\n",
            "403/403 [==============================] - ETA: 0s - loss: 2.4243\n",
            "Epoch 00039: val_loss did not improve from 2.83236\n",
            "403/403 [==============================] - 2s 6ms/step - loss: 2.4243 - val_loss: 2.8361\n",
            "Epoch 40/50\n",
            "395/403 [============================>.] - ETA: 0s - loss: 2.4114\n",
            "Epoch 00040: val_loss improved from 2.83236 to 2.81644, saving model to best_model.h5\n",
            "403/403 [==============================] - 3s 6ms/step - loss: 2.4116 - val_loss: 2.8164\n",
            "Epoch 41/50\n",
            "394/403 [============================>.] - ETA: 0s - loss: 2.4003\n",
            "Epoch 00041: val_loss improved from 2.81644 to 2.80871, saving model to best_model.h5\n",
            "403/403 [==============================] - 3s 6ms/step - loss: 2.4004 - val_loss: 2.8087\n",
            "Epoch 42/50\n",
            "397/403 [============================>.] - ETA: 0s - loss: 2.3889\n",
            "Epoch 00042: val_loss did not improve from 2.80871\n",
            "403/403 [==============================] - 2s 6ms/step - loss: 2.3916 - val_loss: 2.8128\n",
            "Epoch 43/50\n",
            "396/403 [============================>.] - ETA: 0s - loss: 2.3806\n",
            "Epoch 00043: val_loss improved from 2.80871 to 2.80035, saving model to best_model.h5\n",
            "403/403 [==============================] - 3s 6ms/step - loss: 2.3816 - val_loss: 2.8003\n",
            "Epoch 44/50\n",
            "398/403 [============================>.] - ETA: 0s - loss: 2.3791\n",
            "Epoch 00044: val_loss improved from 2.80035 to 2.79532, saving model to best_model.h5\n",
            "403/403 [==============================] - 2s 6ms/step - loss: 2.3793 - val_loss: 2.7953\n",
            "Epoch 45/50\n",
            "396/403 [============================>.] - ETA: 0s - loss: 2.3713\n",
            "Epoch 00045: val_loss did not improve from 2.79532\n",
            "403/403 [==============================] - 2s 6ms/step - loss: 2.3723 - val_loss: 2.8041\n",
            "Epoch 46/50\n",
            "399/403 [============================>.] - ETA: 0s - loss: 2.3634\n",
            "Epoch 00046: val_loss improved from 2.79532 to 2.76396, saving model to best_model.h5\n",
            "403/403 [==============================] - 3s 6ms/step - loss: 2.3637 - val_loss: 2.7640\n",
            "Epoch 47/50\n",
            "401/403 [============================>.] - ETA: 0s - loss: 2.3597\n",
            "Epoch 00047: val_loss did not improve from 2.76396\n",
            "403/403 [==============================] - 2s 6ms/step - loss: 2.3593 - val_loss: 2.7758\n",
            "Epoch 48/50\n",
            "398/403 [============================>.] - ETA: 0s - loss: 2.3479\n",
            "Epoch 00048: val_loss did not improve from 2.76396\n",
            "403/403 [==============================] - 2s 6ms/step - loss: 2.3493 - val_loss: 2.7775\n",
            "Epoch 49/50\n",
            "402/403 [============================>.] - ETA: 0s - loss: 2.3352\n",
            "Epoch 00049: val_loss did not improve from 2.76396\n",
            "403/403 [==============================] - 2s 6ms/step - loss: 2.3358 - val_loss: 2.7644\n",
            "Epoch 50/50\n",
            "397/403 [============================>.] - ETA: 0s - loss: 2.3295\n",
            "Epoch 00050: val_loss did not improve from 2.76396\n",
            "403/403 [==============================] - 2s 6ms/step - loss: 2.3318 - val_loss: 2.7664\n"
          ],
          "name": "stdout"
        }
      ]
    },
    {
      "cell_type": "code",
      "metadata": {
        "id": "NTK4-fiRWOUf",
        "colab_type": "code",
        "colab": {}
      },
      "source": [
        "from keras.models import load_model\n",
        "model = load_model('best_model.h5')"
      ],
      "execution_count": 18,
      "outputs": []
    },
    {
      "cell_type": "code",
      "metadata": {
        "id": "ixp1cQLsWOPo",
        "colab_type": "code",
        "colab": {
          "base_uri": "https://localhost:8080/",
          "height": 35
        },
        "outputId": "5e103c85-4307-4cba-82c0-244e82991b0e"
      },
      "source": [
        "import random\n",
        "ind = np.random.randint(0,len(x_val)-1)\n",
        "\n",
        "random_music = x_val[ind]\n",
        "\n",
        "predictions=[]\n",
        "for i in range(10):\n",
        "\n",
        "    random_music = random_music.reshape(1,no_of_timesteps)\n",
        "\n",
        "    prob  = model.predict(random_music)[0]\n",
        "    y_pred= np.argmax(prob,axis=0)\n",
        "    predictions.append(y_pred)\n",
        "\n",
        "    random_music = np.insert(random_music[0],len(random_music[0]),y_pred)\n",
        "    random_music = random_music[1:]\n",
        "    \n",
        "print(predictions)"
      ],
      "execution_count": 19,
      "outputs": [
        {
          "output_type": "stream",
          "text": [
            "[104, 104, 104, 104, 104, 104, 104, 104, 104, 84]\n"
          ],
          "name": "stdout"
        }
      ]
    },
    {
      "cell_type": "code",
      "metadata": {
        "id": "_PH3uUDiWOJc",
        "colab_type": "code",
        "colab": {}
      },
      "source": [
        "x_int_to_note = dict((number, note_) for number, note_ in enumerate(unique_x)) \n",
        "predicted_notes = [x_int_to_note[i] for i in predictions]"
      ],
      "execution_count": 20,
      "outputs": []
    },
    {
      "cell_type": "code",
      "metadata": {
        "id": "P5O-Em5Xq3sP",
        "colab_type": "code",
        "colab": {}
      },
      "source": [
        "def convert_to_midi(prediction_output):\n",
        "   \n",
        "    offset = 0\n",
        "    output_notes = []\n",
        "\n",
        "    # create note and chord objects based on the values generated by the model\n",
        "    for pattern in prediction_output:\n",
        "        \n",
        "        # pattern is a chord\n",
        "        if ('.' in pattern) or pattern.isdigit():\n",
        "            notes_in_chord = pattern.split('.')\n",
        "            notes = []\n",
        "            for current_note in notes_in_chord:\n",
        "                \n",
        "                cn=int(current_note)\n",
        "                new_note = note.Note(cn)\n",
        "                new_note.storedInstrument = instrument.Piano()\n",
        "                notes.append(new_note)\n",
        "                \n",
        "            new_chord = chord.Chord(notes)\n",
        "            new_chord.offset = offset\n",
        "            output_notes.append(new_chord)\n",
        "            \n",
        "        # pattern is a note\n",
        "        else:\n",
        "            \n",
        "            new_note = note.Note(pattern)\n",
        "            new_note.offset = offset\n",
        "            new_note.storedInstrument = instrument.Piano()\n",
        "            output_notes.append(new_note)\n",
        "\n",
        "        # increase offset each iteration so that notes do not stack\n",
        "        offset += 1\n",
        "    midi_stream = stream.Stream(output_notes)\n",
        "    midi_stream.write('midi', fp='music.mid')"
      ],
      "execution_count": 21,
      "outputs": []
    },
    {
      "cell_type": "code",
      "metadata": {
        "id": "vr7Otg5-q3pf",
        "colab_type": "code",
        "colab": {}
      },
      "source": [
        "convert_to_midi(predicted_notes)"
      ],
      "execution_count": 22,
      "outputs": []
    },
    {
      "cell_type": "code",
      "metadata": {
        "id": "C5Ia85pKq3m3",
        "colab_type": "code",
        "colab": {}
      },
      "source": [
        ""
      ],
      "execution_count": 22,
      "outputs": []
    },
    {
      "cell_type": "code",
      "metadata": {
        "id": "EM7VVB3hq3kO",
        "colab_type": "code",
        "colab": {}
      },
      "source": [
        ""
      ],
      "execution_count": 22,
      "outputs": []
    }
  ]
}